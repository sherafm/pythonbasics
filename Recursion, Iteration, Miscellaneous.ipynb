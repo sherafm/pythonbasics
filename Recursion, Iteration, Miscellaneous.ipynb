{
 "cells": [
  {
   "cell_type": "markdown",
   "metadata": {},
   "source": [
    "### Recursion\n",
    "\n",
    "A Recursive function is a function that directly or indirectly calls itself. Maximum default recursion depth is 1000"
   ]
  },
  {
   "cell_type": "code",
   "execution_count": 16,
   "metadata": {
    "collapsed": false
   },
   "outputs": [
    {
     "name": "stdout",
     "output_type": "stream",
     "text": [
      "('intermediate result for ', 2, ' * factorial (', 1, '): ', 2)\n",
      "('intermediate result for ', 3, ' * factorial (', 2, '): ', 6)\n",
      "('intermediate result for ', 4, ' * factorial (', 3, '): ', 24)\n",
      "('intermediate result for ', 5, ' * factorial (', 4, '): ', 120)\n",
      "('intermediate result for ', 6, ' * factorial (', 5, '): ', 720)\n",
      "('intermediate result for ', 7, ' * factorial (', 6, '): ', 5040)\n",
      "('intermediate result for ', 8, ' * factorial (', 7, '): ', 40320)\n",
      "('intermediate result for ', 9, ' * factorial (', 8, '): ', 362880)\n",
      "('intermediate result for ', 10, ' * factorial (', 9, '): ', 3628800)\n"
     ]
    },
    {
     "data": {
      "text/plain": [
       "3628800"
      ]
     },
     "execution_count": 16,
     "metadata": {},
     "output_type": "execute_result"
    }
   ],
   "source": [
    "def factorial(n): # Factorial Function (!)\n",
    "    if n == 1:\n",
    "        return 1\n",
    "    else:\n",
    "        res = n * factorial(n-1)\n",
    "        print (\"intermediate result for \", n, \" * factorial (\", n-1,\"): \", res)\n",
    "        return res\n",
    "\n",
    "factorial(10)"
   ]
  },
  {
   "cell_type": "code",
   "execution_count": 28,
   "metadata": {
    "collapsed": false
   },
   "outputs": [
    {
     "data": {
      "text/plain": [
       "13"
      ]
     },
     "execution_count": 28,
     "metadata": {},
     "output_type": "execute_result"
    }
   ],
   "source": [
    "def fib(n): # Fibonacci Sequence: F(n) = F(n-1)+F(n-2)\n",
    "    if n == 0:\n",
    "        return 0\n",
    "    elif n == 1:\n",
    "        return 1\n",
    "    else:\n",
    "        return fib(n-1) + fib(n-2)\n",
    "\n",
    "fib(7)"
   ]
  },
  {
   "cell_type": "markdown",
   "metadata": {},
   "source": [
    "### Iteration\n",
    "\n",
    "An Iterative function will repeat it within your range"
   ]
  },
  {
   "cell_type": "code",
   "execution_count": 17,
   "metadata": {
    "collapsed": false
   },
   "outputs": [
    {
     "name": "stdout",
     "output_type": "stream",
     "text": [
      "2\n",
      "6\n",
      "24\n",
      "120\n",
      "720\n"
     ]
    },
    {
     "data": {
      "text/plain": [
       "720"
      ]
     },
     "execution_count": 17,
     "metadata": {},
     "output_type": "execute_result"
    }
   ],
   "source": [
    "def iterative_factorial(n):\n",
    "    result = 1\n",
    "    for i in range (2,n+1):\n",
    "        result *= i\n",
    "        print result\n",
    "    return result\n",
    "\n",
    "iterative_factorial(6)"
   ]
  },
  {
   "cell_type": "code",
   "execution_count": 98,
   "metadata": {
    "collapsed": false
   },
   "outputs": [
    {
     "data": {
      "text/plain": [
       "'c'"
      ]
     },
     "execution_count": 98,
     "metadata": {},
     "output_type": "execute_result"
    }
   ],
   "source": [
    "s = \"cat\"\n",
    "\n",
    "t = iter(s)\n",
    "\n",
    "next(t) # Iterate A String"
   ]
  },
  {
   "cell_type": "code",
   "execution_count": 99,
   "metadata": {
    "collapsed": false
   },
   "outputs": [
    {
     "data": {
      "text/plain": [
       "'a'"
      ]
     },
     "execution_count": 99,
     "metadata": {},
     "output_type": "execute_result"
    }
   ],
   "source": [
    "next(t) # Iterate Again"
   ]
  },
  {
   "cell_type": "markdown",
   "metadata": {},
   "source": [
    "### Conventions\n",
    "\n",
    "#### Single Underscore\n",
    "\n",
    "Names with a leading underscore just indicate to others that the method is intended to be private. Nothing special is done by itself. It's like a weak \"internal use\" indicator."
   ]
  },
  {
   "cell_type": "markdown",
   "metadata": {},
   "source": [
    "### Miscellaneous"
   ]
  },
  {
   "cell_type": "code",
   "execution_count": null,
   "metadata": {
    "collapsed": true
   },
   "outputs": [],
   "source": [
    "import filecmp # Checks If Two Files Are Identical\n",
    "\n",
    "filecmp.cmp(\"file1.txt\",\"file2.txt\") # Will Return True Or False"
   ]
  },
  {
   "cell_type": "code",
   "execution_count": null,
   "metadata": {
    "collapsed": true
   },
   "outputs": [],
   "source": [
    "import shutil # Copies A File\n",
    "\n",
    "shutil.copy2('/dir/file.ext', '/new/dir/newname.ext')"
   ]
  },
  {
   "cell_type": "code",
   "execution_count": 76,
   "metadata": {
    "collapsed": false
   },
   "outputs": [
    {
     "data": {
      "text/plain": [
       "10"
      ]
     },
     "execution_count": 76,
     "metadata": {},
     "output_type": "execute_result"
    }
   ],
   "source": [
    "hex(10) # Converts A Base 10 Into An Hexadecimal\n",
    "\n",
    "int(\"a\",16) # Converts Hexadecimal String Into A Base 10 Number"
   ]
  },
  {
   "cell_type": "code",
   "execution_count": 80,
   "metadata": {
    "collapsed": false
   },
   "outputs": [
    {
     "name": "stdout",
     "output_type": "stream",
     "text": [
      "my_function\n"
     ]
    }
   ],
   "source": [
    "def my_function(x):\n",
    "    return x ** 2\n",
    "\n",
    "name = my_function.__name__ # Get The String Version Of A Function\n",
    "\n",
    "print name"
   ]
  },
  {
   "cell_type": "code",
   "execution_count": null,
   "metadata": {
    "collapsed": true
   },
   "outputs": [],
   "source": [
    "\"==\" is for Equality (same value)\n",
    "\n",
    "\"is\" is for Identity (same Object)"
   ]
  }
 ],
 "metadata": {
  "kernelspec": {
   "display_name": "Python 2",
   "language": "python",
   "name": "python2"
  },
  "language_info": {
   "codemirror_mode": {
    "name": "ipython",
    "version": 2
   },
   "file_extension": ".py",
   "mimetype": "text/x-python",
   "name": "python",
   "nbconvert_exporter": "python",
   "pygments_lexer": "ipython2",
   "version": "2.7.10"
  }
 },
 "nbformat": 4,
 "nbformat_minor": 0
}
